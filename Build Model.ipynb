{
 "cells": [
  {
   "cell_type": "code",
   "execution_count": 1,
   "id": "07beafeb",
   "metadata": {},
   "outputs": [],
   "source": [
    "import numpy as np\n",
    "import pandas as pd"
   ]
  },
  {
   "cell_type": "code",
   "execution_count": 2,
   "id": "e900ce1c",
   "metadata": {},
   "outputs": [],
   "source": [
    "#Dataset Information:\n",
    "#validation dataset : surprise 797 fear 1018 angry 960 neutral 1216 sad 1139 disgust 111 happy 1825\n",
    "#train dataset : surprise 3205 fear 4103 angry 3993 neutral 4982 sad 4938 disgust 436 happy 7164"
   ]
  },
  {
   "cell_type": "code",
   "execution_count": 3,
   "id": "42504c90",
   "metadata": {},
   "outputs": [],
   "source": [
    "from keras.preprocessing.image import ImageDataGenerator\n",
    "from keras.models import Sequential\n",
    "from keras.layers import Dense,Dropout,Flatten\n",
    "from keras.layers import Conv2D,MaxPooling2D,BatchNormalization,Activation\n",
    "from keras.optimizers import Adam\n",
    "from keras.callbacks import ModelCheckpoint, EarlyStopping, ReduceLROnPlateau\n",
    "from matplotlib import pyplot as plt"
   ]
  },
  {
   "cell_type": "code",
   "execution_count": 4,
   "id": "913978c3",
   "metadata": {},
   "outputs": [],
   "source": [
    "train_data=r'dataset\\train'\n",
    "validation_data=r'dataset\\validation'"
   ]
  },
  {
   "cell_type": "code",
   "execution_count": 5,
   "id": "f1a36954",
   "metadata": {},
   "outputs": [],
   "source": [
    "# for train dataset\n",
    "train_datagen = ImageDataGenerator(rescale=1./255,\n",
    "                                   rotation_range=30,\n",
    "                                   shear_range=0.3,\n",
    "                                   zoom_range=0.3,\n",
    "                                   horizontal_flip=True,\n",
    "                                   fill_mode='nearest')\n",
    "\n",
    "#for validation dataset\n",
    "validation_datagen = ImageDataGenerator(rescale=1./255)"
   ]
  },
  {
   "cell_type": "code",
   "execution_count": 6,
   "id": "1a44d7ac",
   "metadata": {},
   "outputs": [],
   "source": [
    "#image height\n",
    "IMG_HEIGHT=48\n",
    "#image width \n",
    "IMG_WIDTH = 48\n",
    "#batch size\n",
    "batch_size=32\n",
    "seed = 42"
   ]
  },
  {
   "cell_type": "code",
   "execution_count": 7,
   "id": "2a570647",
   "metadata": {},
   "outputs": [
    {
     "name": "stdout",
     "output_type": "stream",
     "text": [
      "Found 28821 images belonging to 7 classes.\n"
     ]
    }
   ],
   "source": [
    "# create training sets\n",
    "train_generator = train_datagen.flow_from_directory(train_data,\n",
    "                                                    color_mode='grayscale',\n",
    "                                                    target_size=(IMG_HEIGHT, IMG_WIDTH),\n",
    "                                                    batch_size=batch_size,\n",
    "                                                    class_mode='categorical',\n",
    "                                                    shuffle=True,\n",
    "                                                    seed=seed)"
   ]
  },
  {
   "cell_type": "code",
   "execution_count": 8,
   "id": "03fabbb7",
   "metadata": {},
   "outputs": [
    {
     "name": "stdout",
     "output_type": "stream",
     "text": [
      "Found 7066 images belonging to 7 classes.\n"
     ]
    }
   ],
   "source": [
    "#create Validation sets\n",
    "validation_generator = validation_datagen.flow_from_directory(validation_data,\n",
    "                                                              color_mode='grayscale',\n",
    "                                                              target_size=(IMG_HEIGHT, IMG_WIDTH),\n",
    "                                                              batch_size=batch_size,\n",
    "                                                              class_mode='categorical',\n",
    "                                                              shuffle=True,\n",
    "                                                              seed=seed)"
   ]
  },
  {
   "cell_type": "code",
   "execution_count": 9,
   "id": "05b7506f",
   "metadata": {},
   "outputs": [],
   "source": [
    "class_labels=['angry','disgust', 'fear', 'happy','neutral','sad','surprise']"
   ]
  },
  {
   "cell_type": "code",
   "execution_count": 10,
   "id": "fbfbb6c9",
   "metadata": {},
   "outputs": [],
   "source": [
    "model = Sequential()\n",
    "\n",
    "#1st CNN layer\n",
    "model.add(Conv2D(64,(3,3),padding = 'same',input_shape = (48,48,1)))\n",
    "model.add(BatchNormalization())\n",
    "model.add(Activation('relu'))\n",
    "model.add(MaxPooling2D(pool_size = (2,2)))\n",
    "model.add(Dropout(0.25))\n",
    "\n",
    "#2nd CNN layer\n",
    "model.add(Conv2D(128,(5,5),padding = 'same'))\n",
    "model.add(BatchNormalization())\n",
    "model.add(Activation('relu'))\n",
    "model.add(MaxPooling2D(pool_size = (2,2)))\n",
    "model.add(Dropout (0.25))\n",
    "\n",
    "#3rd CNN layer\n",
    "model.add(Conv2D(512,(3,3),padding = 'same'))\n",
    "model.add(BatchNormalization())\n",
    "model.add(Activation('relu'))\n",
    "model.add(MaxPooling2D(pool_size = (2,2)))\n",
    "model.add(Dropout (0.25))\n",
    "\n",
    "#4th CNN layer\n",
    "model.add(Conv2D(512,(3,3), padding='same'))\n",
    "model.add(BatchNormalization())\n",
    "model.add(Activation('relu'))\n",
    "model.add(MaxPooling2D(pool_size=(2, 2)))\n",
    "model.add(Dropout(0.25))\n",
    "\n",
    "model.add(Flatten())\n",
    "\n",
    "#Fully connected 1st layer\n",
    "model.add(Dense(256))\n",
    "model.add(BatchNormalization())\n",
    "model.add(Activation('relu'))\n",
    "model.add(Dropout(0.25))\n",
    "\n",
    "\n",
    "# Fully connected layer 2nd layer\n",
    "model.add(Dense(512))\n",
    "model.add(BatchNormalization())\n",
    "model.add(Activation('relu'))\n",
    "model.add(Dropout(0.25))\n",
    "\n",
    "\n",
    "model.add(Dense(7, activation='softmax'))"
   ]
  },
  {
   "cell_type": "code",
   "execution_count": 11,
   "id": "8ddf852b",
   "metadata": {},
   "outputs": [
    {
     "name": "stdout",
     "output_type": "stream",
     "text": [
      "Model: \"sequential\"\n",
      "_________________________________________________________________\n",
      " Layer (type)                Output Shape              Param #   \n",
      "=================================================================\n",
      " conv2d (Conv2D)             (None, 48, 48, 64)        640       \n",
      "                                                                 \n",
      " batch_normalization (Batch  (None, 48, 48, 64)        256       \n",
      " Normalization)                                                  \n",
      "                                                                 \n",
      " activation (Activation)     (None, 48, 48, 64)        0         \n",
      "                                                                 \n",
      " max_pooling2d (MaxPooling2  (None, 24, 24, 64)        0         \n",
      " D)                                                              \n",
      "                                                                 \n",
      " dropout (Dropout)           (None, 24, 24, 64)        0         \n",
      "                                                                 \n",
      " conv2d_1 (Conv2D)           (None, 24, 24, 128)       204928    \n",
      "                                                                 \n",
      " batch_normalization_1 (Bat  (None, 24, 24, 128)       512       \n",
      " chNormalization)                                                \n",
      "                                                                 \n",
      " activation_1 (Activation)   (None, 24, 24, 128)       0         \n",
      "                                                                 \n",
      " max_pooling2d_1 (MaxPoolin  (None, 12, 12, 128)       0         \n",
      " g2D)                                                            \n",
      "                                                                 \n",
      " dropout_1 (Dropout)         (None, 12, 12, 128)       0         \n",
      "                                                                 \n",
      " conv2d_2 (Conv2D)           (None, 12, 12, 512)       590336    \n",
      "                                                                 \n",
      " batch_normalization_2 (Bat  (None, 12, 12, 512)       2048      \n",
      " chNormalization)                                                \n",
      "                                                                 \n",
      " activation_2 (Activation)   (None, 12, 12, 512)       0         \n",
      "                                                                 \n",
      " max_pooling2d_2 (MaxPoolin  (None, 6, 6, 512)         0         \n",
      " g2D)                                                            \n",
      "                                                                 \n",
      " dropout_2 (Dropout)         (None, 6, 6, 512)         0         \n",
      "                                                                 \n",
      " conv2d_3 (Conv2D)           (None, 6, 6, 512)         2359808   \n",
      "                                                                 \n",
      " batch_normalization_3 (Bat  (None, 6, 6, 512)         2048      \n",
      " chNormalization)                                                \n",
      "                                                                 \n",
      " activation_3 (Activation)   (None, 6, 6, 512)         0         \n",
      "                                                                 \n",
      " max_pooling2d_3 (MaxPoolin  (None, 3, 3, 512)         0         \n",
      " g2D)                                                            \n",
      "                                                                 \n",
      " dropout_3 (Dropout)         (None, 3, 3, 512)         0         \n",
      "                                                                 \n",
      " flatten (Flatten)           (None, 4608)              0         \n",
      "                                                                 \n",
      " dense (Dense)               (None, 256)               1179904   \n",
      "                                                                 \n",
      " batch_normalization_4 (Bat  (None, 256)               1024      \n",
      " chNormalization)                                                \n",
      "                                                                 \n",
      " activation_4 (Activation)   (None, 256)               0         \n",
      "                                                                 \n",
      " dropout_4 (Dropout)         (None, 256)               0         \n",
      "                                                                 \n",
      " dense_1 (Dense)             (None, 512)               131584    \n",
      "                                                                 \n",
      " batch_normalization_5 (Bat  (None, 512)               2048      \n",
      " chNormalization)                                                \n",
      "                                                                 \n",
      " activation_5 (Activation)   (None, 512)               0         \n",
      "                                                                 \n",
      " dropout_5 (Dropout)         (None, 512)               0         \n",
      "                                                                 \n",
      " dense_2 (Dense)             (None, 7)                 3591      \n",
      "                                                                 \n",
      "=================================================================\n",
      "Total params: 4478727 (17.08 MB)\n",
      "Trainable params: 4474759 (17.07 MB)\n",
      "Non-trainable params: 3968 (15.50 KB)\n",
      "_________________________________________________________________\n"
     ]
    }
   ],
   "source": [
    "#get model summary\n",
    "model.summary()"
   ]
  },
  {
   "cell_type": "code",
   "execution_count": 12,
   "id": "1b433923",
   "metadata": {},
   "outputs": [],
   "source": [
    "model.compile(optimizer = Adam(learning_rate=0.001), loss='categorical_crossentropy', metrics=['accuracy'])"
   ]
  },
  {
   "cell_type": "code",
   "execution_count": 13,
   "id": "d1d43e21",
   "metadata": {},
   "outputs": [],
   "source": [
    "# determine early stoping mechanism\n",
    "early_stopping = EarlyStopping(monitor='val_loss',\n",
    "                          min_delta=0,\n",
    "                          patience=3,\n",
    "                          verbose=1,\n",
    "                          restore_best_weights=True\n",
    "                          )\n",
    "\n",
    "# Instantiate ModelCheckpoint callback\n",
    "checkpoint = ModelCheckpoint(filepath='best_model.h5',\n",
    "                             monitor='val_loss',\n",
    "                             save_best_only=True,\n",
    "                             save_weights_only=False,\n",
    "                             mode='min',\n",
    "                             verbose=1)\n",
    "\n",
    "# reduce learning rate mechanism\n",
    "reduce_learningrate = ReduceLROnPlateau(monitor='val_loss',\n",
    "                              factor=0.2,\n",
    "                              patience=3,\n",
    "                              verbose=1,\n",
    "                              min_delta=0.0001)\n",
    "\n",
    "# make callback as a list\n",
    "callbacks_list = [early_stopping,checkpoint,reduce_learningrate]\n"
   ]
  },
  {
   "cell_type": "code",
   "execution_count": 14,
   "id": "c22b8b7f",
   "metadata": {},
   "outputs": [
    {
     "name": "stdout",
     "output_type": "stream",
     "text": [
      "Epoch 1/50\n",
      "900/900 [==============================] - ETA: 0s - loss: 1.8728 - accuracy: 0.2516\n",
      "Epoch 1: val_loss improved from inf to 1.70827, saving model to best_model.h5\n"
     ]
    },
    {
     "name": "stderr",
     "output_type": "stream",
     "text": [
      "c:\\users\\admin\\appdata\\local\\programs\\python\\python38\\lib\\site-packages\\keras\\src\\engine\\training.py:3000: UserWarning: You are saving your model as an HDF5 file via `model.save()`. This file format is considered legacy. We recommend using instead the native Keras format, e.g. `model.save('my_model.keras')`.\n",
      "  saving_api.save_model(\n"
     ]
    },
    {
     "name": "stdout",
     "output_type": "stream",
     "text": [
      "900/900 [==============================] - 414s 458ms/step - loss: 1.8728 - accuracy: 0.2516 - val_loss: 1.7083 - val_accuracy: 0.3318 - lr: 0.0010\n",
      "Epoch 2/50\n",
      "900/900 [==============================] - ETA: 0s - loss: 1.6430 - accuracy: 0.3556\n",
      "Epoch 2: val_loss improved from 1.70827 to 1.55430, saving model to best_model.h5\n",
      "900/900 [==============================] - 369s 410ms/step - loss: 1.6430 - accuracy: 0.3556 - val_loss: 1.5543 - val_accuracy: 0.3973 - lr: 0.0010\n",
      "Epoch 3/50\n",
      "900/900 [==============================] - ETA: 0s - loss: 1.4947 - accuracy: 0.4194\n",
      "Epoch 3: val_loss improved from 1.55430 to 1.34841, saving model to best_model.h5\n",
      "900/900 [==============================] - 370s 411ms/step - loss: 1.4947 - accuracy: 0.4194 - val_loss: 1.3484 - val_accuracy: 0.4798 - lr: 0.0010\n",
      "Epoch 4/50\n",
      "900/900 [==============================] - ETA: 0s - loss: 1.4148 - accuracy: 0.4563\n",
      "Epoch 4: val_loss did not improve from 1.34841\n",
      "900/900 [==============================] - 347s 386ms/step - loss: 1.4148 - accuracy: 0.4563 - val_loss: 1.4229 - val_accuracy: 0.4462 - lr: 0.0010\n",
      "Epoch 5/50\n",
      "900/900 [==============================] - ETA: 0s - loss: 1.3656 - accuracy: 0.4775\n",
      "Epoch 5: val_loss improved from 1.34841 to 1.29243, saving model to best_model.h5\n",
      "900/900 [==============================] - 418s 464ms/step - loss: 1.3656 - accuracy: 0.4775 - val_loss: 1.2924 - val_accuracy: 0.5095 - lr: 0.0010\n",
      "Epoch 6/50\n",
      "900/900 [==============================] - ETA: 0s - loss: 1.3180 - accuracy: 0.4924\n",
      "Epoch 6: val_loss improved from 1.29243 to 1.19036, saving model to best_model.h5\n",
      "900/900 [==============================] - 371s 412ms/step - loss: 1.3180 - accuracy: 0.4924 - val_loss: 1.1904 - val_accuracy: 0.5473 - lr: 0.0010\n",
      "Epoch 7/50\n",
      "900/900 [==============================] - ETA: 0s - loss: 1.2857 - accuracy: 0.5082\n",
      "Epoch 7: val_loss did not improve from 1.19036\n",
      "900/900 [==============================] - 347s 385ms/step - loss: 1.2857 - accuracy: 0.5082 - val_loss: 1.3181 - val_accuracy: 0.4834 - lr: 0.0010\n",
      "Epoch 8/50\n",
      "900/900 [==============================] - ETA: 0s - loss: 1.2719 - accuracy: 0.5117\n",
      "Epoch 8: val_loss improved from 1.19036 to 1.11394, saving model to best_model.h5\n",
      "900/900 [==============================] - 374s 416ms/step - loss: 1.2719 - accuracy: 0.5117 - val_loss: 1.1139 - val_accuracy: 0.5781 - lr: 0.0010\n",
      "Epoch 9/50\n",
      "900/900 [==============================] - ETA: 0s - loss: 1.2420 - accuracy: 0.5247\n",
      "Epoch 9: val_loss did not improve from 1.11394\n",
      "900/900 [==============================] - 346s 385ms/step - loss: 1.2420 - accuracy: 0.5247 - val_loss: 1.1994 - val_accuracy: 0.5402 - lr: 0.0010\n",
      "Epoch 10/50\n",
      "900/900 [==============================] - ETA: 0s - loss: 1.2274 - accuracy: 0.5312\n",
      "Epoch 10: val_loss did not improve from 1.11394\n",
      "900/900 [==============================] - 349s 387ms/step - loss: 1.2274 - accuracy: 0.5312 - val_loss: 1.3790 - val_accuracy: 0.4697 - lr: 0.0010\n",
      "Epoch 11/50\n",
      "900/900 [==============================] - ETA: 0s - loss: 1.2067 - accuracy: 0.5437\n",
      "Epoch 11: val_loss improved from 1.11394 to 1.10503, saving model to best_model.h5\n",
      "900/900 [==============================] - 374s 416ms/step - loss: 1.2067 - accuracy: 0.5437 - val_loss: 1.1050 - val_accuracy: 0.5811 - lr: 0.0010\n",
      "Epoch 12/50\n",
      "900/900 [==============================] - ETA: 0s - loss: 1.2001 - accuracy: 0.5481\n",
      "Epoch 12: val_loss improved from 1.10503 to 1.09921, saving model to best_model.h5\n",
      "900/900 [==============================] - 371s 412ms/step - loss: 1.2001 - accuracy: 0.5481 - val_loss: 1.0992 - val_accuracy: 0.5839 - lr: 0.0010\n",
      "Epoch 13/50\n",
      "900/900 [==============================] - ETA: 0s - loss: 1.1771 - accuracy: 0.5548\n",
      "Epoch 13: val_loss improved from 1.09921 to 1.09555, saving model to best_model.h5\n",
      "900/900 [==============================] - 370s 411ms/step - loss: 1.1771 - accuracy: 0.5548 - val_loss: 1.0955 - val_accuracy: 0.5822 - lr: 0.0010\n",
      "Epoch 14/50\n",
      "900/900 [==============================] - ETA: 0s - loss: 1.1691 - accuracy: 0.5576\n",
      "Epoch 14: val_loss did not improve from 1.09555\n",
      "900/900 [==============================] - 345s 383ms/step - loss: 1.1691 - accuracy: 0.5576 - val_loss: 1.1820 - val_accuracy: 0.5457 - lr: 0.0010\n",
      "Epoch 15/50\n",
      "900/900 [==============================] - ETA: 0s - loss: 1.1520 - accuracy: 0.5621\n",
      "Epoch 15: val_loss did not improve from 1.09555\n",
      "900/900 [==============================] - 348s 386ms/step - loss: 1.1520 - accuracy: 0.5621 - val_loss: 1.1122 - val_accuracy: 0.5750 - lr: 0.0010\n",
      "Epoch 16/50\n",
      "900/900 [==============================] - ETA: 0s - loss: 1.1449 - accuracy: 0.5664Restoring model weights from the end of the best epoch: 13.\n",
      "\n",
      "Epoch 16: val_loss did not improve from 1.09555\n",
      "\n",
      "Epoch 16: ReduceLROnPlateau reducing learning rate to 0.00020000000949949026.\n",
      "900/900 [==============================] - 348s 387ms/step - loss: 1.1449 - accuracy: 0.5664 - val_loss: 1.1706 - val_accuracy: 0.5544 - lr: 0.0010\n",
      "Epoch 16: early stopping\n"
     ]
    }
   ],
   "source": [
    "#epoch size\n",
    "epochs=50\n",
    "num_train_imgs=28821\n",
    "num_test_imgs=7066\n",
    "\n",
    "# fit model\n",
    "history=model.fit(train_generator,\n",
    "                steps_per_epoch=num_train_imgs//train_generator.batch_size,\n",
    "                epochs=epochs,\n",
    "                validation_data=validation_generator,\n",
    "                validation_steps=num_test_imgs//validation_generator.batch_size,\n",
    "                callbacks=callbacks_list)"
   ]
  },
  {
   "cell_type": "code",
   "execution_count": 19,
   "id": "9dbf3388",
   "metadata": {},
   "outputs": [
    {
     "data": {
      "image/png": "[encoded data removed]",
      "text/plain": [
       "<Figure size 1000x400 with 2 Axes>"
      ]
     },
     "metadata": {},
     "output_type": "display_data"
    }
   ],
   "source": [
    "import matplotlib.pyplot as plt\n",
    "epochs = 16\n",
    "\n",
    "acc = history.history['accuracy']\n",
    "val_acc = history.history['val_accuracy']\n",
    "\n",
    "loss = history.history['loss']\n",
    "val_loss = history.history['val_loss']\n",
    "\n",
    "epochs_range = range(epochs)\n",
    "#plot traing and validation accuracy\n",
    "plt.figure(figsize=(10, 4))\n",
    "plt.subplot(1, 2, 1)\n",
    "plt.plot(epochs_range, acc, label='Training Accuracy')\n",
    "plt.plot(epochs_range, val_acc, label='Validation Accuracy')\n",
    "plt.xlabel(\"Epoch\")\n",
    "plt.ylabel(\"Accuracy\")\n",
    "plt.legend(loc='lower right')\n",
    "plt.title('Training and Validation Accuracy')\n",
    "plt.grid()\n",
    "\n",
    "#plot traing and validation loss\n",
    "plt.subplot(1, 2, 2)\n",
    "plt.plot(epochs_range, loss, label='Training Loss')\n",
    "plt.plot(epochs_range, val_loss, label='Validation Loss')\n",
    "plt.xlabel(\"Epoch\")\n",
    "plt.ylabel(\"Accuracy\")\n",
    "plt.legend(loc='upper right')\n",
    "plt.title('Training and Validation Loss')\n",
    "plt.grid()\n",
    "plt.show()"
   ]
  },
  {
   "cell_type": "code",
   "execution_count": 20,
   "id": "9d5eee34",
   "metadata": {},
   "outputs": [
    {
     "name": "stdout",
     "output_type": "stream",
     "text": [
      "221/221 [==============================] - 14s 63ms/step\n",
      "Classification Report:\n",
      "              precision    recall  f1-score   support\n",
      "\n",
      "       angry       0.13      0.12      0.12       960\n",
      "     disgust       0.00      0.00      0.00       111\n",
      "        fear       0.14      0.07      0.09      1018\n",
      "       happy       0.26      0.33      0.29      1825\n",
      "     neutral       0.16      0.21      0.18      1216\n",
      "         sad       0.16      0.15      0.15      1139\n",
      "    surprise       0.11      0.11      0.11       797\n",
      "\n",
      "    accuracy                           0.18      7066\n",
      "   macro avg       0.14      0.14      0.14      7066\n",
      "weighted avg       0.17      0.18      0.17      7066\n",
      "\n"
     ]
    }
   ],
   "source": [
    "from sklearn.metrics import classification_report\n",
    "import numpy as np\n",
    "\n",
    "# Generate predictions for the validation data\n",
    "y_pred = model.predict(validation_generator)\n",
    "\n",
    "# Convert predicted probabilities to class labels\n",
    "y_pred_classes = np.argmax(y_pred, axis=1)\n",
    "\n",
    "# Get true labels from the validation generator\n",
    "y_true = validation_generator.classes\n",
    "\n",
    "# Get the class labels\n",
    "class_labels = list(validation_generator.class_indices.keys())\n",
    "\n",
    "# Print classification report\n",
    "print(\"Classification Report:\")\n",
    "print(classification_report(y_true, y_pred_classes, target_names=class_labels))"
   ]
  },
  {
   "cell_type": "code",
   "execution_count": 22,
   "id": "fc6310d7",
   "metadata": {},
   "outputs": [
    {
     "name": "stdout",
     "output_type": "stream",
     "text": [
      "221/221 [==============================] - 14s 64ms/step - loss: 1.0951 - accuracy: 0.5824\n",
      "901/901 [==============================] - 66s 74ms/step - loss: 1.1665 - accuracy: 0.5555\n"
     ]
    }
   ],
   "source": [
    "validation_loss, validation_accuracy = model.evaluate(validation_generator)\n",
    "training_loss, training_accuracy = model.evaluate(train_generator)"
   ]
  },
  {
   "cell_type": "code",
   "execution_count": 23,
   "id": "69f1edc0-a393-4a90-a8db-0c19e85ef858",
   "metadata": {},
   "outputs": [
    {
     "name": "stdout",
     "output_type": "stream",
     "text": [
      "validation_accuracy:  0.5823662877082825\n"
     ]
    }
   ],
   "source": [
    "print(\"validation_accuracy: \",validation_accuracy)"
   ]
  },
  {
   "cell_type": "code",
   "execution_count": 24,
   "id": "8787ac36-0471-41e2-9daf-9067471ded07",
   "metadata": {},
   "outputs": [
    {
     "name": "stdout",
     "output_type": "stream",
     "text": [
      "training_accuracy:  0.5554977059364319\n"
     ]
    }
   ],
   "source": [
    "print(\"training_accuracy: \",training_accuracy)"
   ]
  },
  {
   "cell_type": "code",
   "execution_count": null,
   "id": "ba90dd46-968d-4343-8043-6f9bfe5815e7",
   "metadata": {},
   "outputs": [],
   "source": []
  }
 ],
 "metadata": {
  "kernelspec": {
   "display_name": "Python 3 (ipykernel)",
   "language": "python",
   "name": "python3"
  },
  "language_info": {
   "codemirror_mode": {
    "name": "ipython",
    "version": 3
   },
   "file_extension": ".py",
   "mimetype": "text/x-python",
   "name": "python",
   "nbconvert_exporter": "python",
   "pygments_lexer": "ipython3",
   "version": "3.8.8"
  }
 },
 "nbformat": 4,
 "nbformat_minor": 5
}
